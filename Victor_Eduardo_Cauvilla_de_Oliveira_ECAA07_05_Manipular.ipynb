{
  "nbformat": 4,
  "nbformat_minor": 0,
  "metadata": {
    "colab": {
      "provenance": []
    },
    "kernelspec": {
      "name": "python3",
      "display_name": "Python 3"
    },
    "language_info": {
      "name": "python"
    }
  },
  "cells": [
    {
      "cell_type": "markdown",
      "source": [
        "# SQL DML (*Data Manager Language*)"
      ],
      "metadata": {
        "id": "YzMGMtXOwTz5"
      }
    },
    {
      "cell_type": "code",
      "source": [
        "%load_ext sql\n",
        "%sql sqlite:///ecaa07_05_manipular.db"
      ],
      "metadata": {
        "id": "aQNIWdgEwuKD",
        "colab": {
          "base_uri": "https://localhost:8080/",
          "height": 35
        },
        "outputId": "ff1cf19b-2bae-4d0c-f7f1-a407e8ed7137"
      },
      "execution_count": null,
      "outputs": [
        {
          "output_type": "execute_result",
          "data": {
            "text/plain": [
              "'Connected: @ecaa07_05_manipular.db'"
            ],
            "application/vnd.google.colaboratory.intrinsic+json": {
              "type": "string"
            }
          },
          "metadata": {},
          "execution_count": 1
        }
      ]
    },
    {
      "cell_type": "markdown",
      "source": [
        "# Inserir Dados Novos na Tabela"
      ],
      "metadata": {
        "id": "cK3gxr9gweW3"
      }
    },
    {
      "cell_type": "markdown",
      "source": [
        "```\n",
        "INSERT INTO <Tabela> (<campo1>, <campo2>) VALUES (<valor1>, <valor2>)\n",
        "```"
      ],
      "metadata": {
        "id": "UouPN6RCwh-2"
      }
    },
    {
      "cell_type": "code",
      "execution_count": null,
      "metadata": {
        "id": "xkc9b8Y_vpNK",
        "colab": {
          "base_uri": "https://localhost:8080/"
        },
        "outputId": "228bed0f-325e-43f5-ec3e-bddc55cc2a63"
      },
      "outputs": [
        {
          "output_type": "stream",
          "name": "stdout",
          "text": [
            " * sqlite:///ecaa07_05_manipular.db\n",
            "Done.\n",
            "Done.\n"
          ]
        },
        {
          "output_type": "execute_result",
          "data": {
            "text/plain": [
              "[]"
            ]
          },
          "metadata": {},
          "execution_count": 10
        }
      ],
      "source": [
        "%%sql\n",
        "DROP TABLE IF EXISTS Alunos;\n",
        "CREATE TABLE Alunos (\n",
        "  IdAluno INTEGER PRIMARY KEY,\n",
        "  Aluno VARCHAR(255),\n",
        "  Matricula INTEGER,\n",
        "  Entrada DATETIME)"
      ]
    },
    {
      "cell_type": "code",
      "source": [
        "%sql INSERT INTO Alunos VALUES (1,'Andrés Urdangarin Dorronsoro',201201001,'2012-09-27')"
      ],
      "metadata": {
        "id": "kRQzhl8dxks2",
        "colab": {
          "base_uri": "https://localhost:8080/"
        },
        "outputId": "991f7b5a-856d-4846-db76-49d771213f09"
      },
      "execution_count": null,
      "outputs": [
        {
          "output_type": "stream",
          "name": "stdout",
          "text": [
            " * sqlite:///ecaa07_05_manipular.db\n",
            "1 rows affected.\n"
          ]
        },
        {
          "output_type": "execute_result",
          "data": {
            "text/plain": [
              "[]"
            ]
          },
          "metadata": {},
          "execution_count": 11
        }
      ]
    },
    {
      "cell_type": "code",
      "source": [
        "%sql SELECT * FROM Alunos"
      ],
      "metadata": {
        "id": "4IzGMne7xply",
        "colab": {
          "base_uri": "https://localhost:8080/",
          "height": 98
        },
        "outputId": "633744e5-c38e-4b91-864e-02ccb346aa82"
      },
      "execution_count": null,
      "outputs": [
        {
          "output_type": "stream",
          "name": "stdout",
          "text": [
            " * sqlite:///ecaa07_05_manipular.db\n",
            "Done.\n"
          ]
        },
        {
          "output_type": "execute_result",
          "data": {
            "text/plain": [
              "[(1, 'Andrés Urdangarin Dorronsoro', 201201001, '2012-09-27')]"
            ],
            "text/html": [
              "<table>\n",
              "    <thead>\n",
              "        <tr>\n",
              "            <th>IdAluno</th>\n",
              "            <th>Aluno</th>\n",
              "            <th>Matricula</th>\n",
              "            <th>Entrada</th>\n",
              "        </tr>\n",
              "    </thead>\n",
              "    <tbody>\n",
              "        <tr>\n",
              "            <td>1</td>\n",
              "            <td>Andrés Urdangarin Dorronsoro</td>\n",
              "            <td>201201001</td>\n",
              "            <td>2012-09-27</td>\n",
              "        </tr>\n",
              "    </tbody>\n",
              "</table>"
            ]
          },
          "metadata": {},
          "execution_count": 12
        }
      ]
    },
    {
      "cell_type": "code",
      "source": [
        "%sql INSERT INTO Alunos VALUES (2,'Anfilófio Neves',201201004,'2012-04-26')"
      ],
      "metadata": {
        "id": "7AxPhiRTxtO7",
        "colab": {
          "base_uri": "https://localhost:8080/"
        },
        "outputId": "592efe44-46e7-4637-ffef-d9c17330c73b"
      },
      "execution_count": null,
      "outputs": [
        {
          "output_type": "stream",
          "name": "stdout",
          "text": [
            " * sqlite:///ecaa07_05_manipular.db\n",
            "1 rows affected.\n"
          ]
        },
        {
          "output_type": "execute_result",
          "data": {
            "text/plain": [
              "[]"
            ]
          },
          "metadata": {},
          "execution_count": 13
        }
      ]
    },
    {
      "cell_type": "code",
      "source": [
        "%sql SELECT * FROM Alunos"
      ],
      "metadata": {
        "id": "PQWdRVk9xwyP",
        "colab": {
          "base_uri": "https://localhost:8080/",
          "height": 119
        },
        "outputId": "bfd6b524-9ac5-42b5-995e-5e4ccde15e4e"
      },
      "execution_count": null,
      "outputs": [
        {
          "output_type": "stream",
          "name": "stdout",
          "text": [
            " * sqlite:///ecaa07_05_manipular.db\n",
            "Done.\n"
          ]
        },
        {
          "output_type": "execute_result",
          "data": {
            "text/plain": [
              "[(1, 'Andrés Urdangarin Dorronsoro', 201201001, '2012-09-27'),\n",
              " (2, 'Anfilófio Neves', 201201004, '2012-04-26')]"
            ],
            "text/html": [
              "<table>\n",
              "    <thead>\n",
              "        <tr>\n",
              "            <th>IdAluno</th>\n",
              "            <th>Aluno</th>\n",
              "            <th>Matricula</th>\n",
              "            <th>Entrada</th>\n",
              "        </tr>\n",
              "    </thead>\n",
              "    <tbody>\n",
              "        <tr>\n",
              "            <td>1</td>\n",
              "            <td>Andrés Urdangarin Dorronsoro</td>\n",
              "            <td>201201001</td>\n",
              "            <td>2012-09-27</td>\n",
              "        </tr>\n",
              "        <tr>\n",
              "            <td>2</td>\n",
              "            <td>Anfilófio Neves</td>\n",
              "            <td>201201004</td>\n",
              "            <td>2012-04-26</td>\n",
              "        </tr>\n",
              "    </tbody>\n",
              "</table>"
            ]
          },
          "metadata": {},
          "execution_count": 14
        }
      ]
    },
    {
      "cell_type": "markdown",
      "source": [
        "Última chave primária inserida (SQLite):\n",
        "\n",
        "```\n",
        "SELECT last_insert_rowid()\n",
        "```\n",
        "\n"
      ],
      "metadata": {
        "id": "HWxZtepUyfg0"
      }
    },
    {
      "cell_type": "code",
      "source": [
        "%%sql\n",
        "DROP TABLE IF EXISTS Dispositivos;\n",
        "CREATE TABLE Dispositivos (\n",
        "  IdDispositivo INTEGER PRIMARY KEY AUTOINCREMENT,\n",
        "  Dispositivo VARCHAR(255) NOT NULL,\n",
        "  TagID INTEGER,\n",
        "  Criado DATETIME DEFAULT CURRENT_TIMESTAMP)"
      ],
      "metadata": {
        "id": "qxYc5IoNysMs",
        "colab": {
          "base_uri": "https://localhost:8080/"
        },
        "outputId": "199b9e42-bad3-4953-c75a-5e0455b3a7d0"
      },
      "execution_count": null,
      "outputs": [
        {
          "output_type": "stream",
          "name": "stdout",
          "text": [
            " * sqlite:///ecaa07_05_manipular.db\n",
            "Done.\n",
            "Done.\n"
          ]
        },
        {
          "output_type": "execute_result",
          "data": {
            "text/plain": [
              "[]"
            ]
          },
          "metadata": {},
          "execution_count": 24
        }
      ]
    },
    {
      "cell_type": "code",
      "source": [
        "%sql INSERT INTO Dispositivos (Dispositivo, TagID) VALUES ('Sensor Indutivo', 43252)"
      ],
      "metadata": {
        "id": "3I144dmkzjNd",
        "colab": {
          "base_uri": "https://localhost:8080/"
        },
        "outputId": "56558b30-95eb-4952-cee9-9b1f6fed01c9"
      },
      "execution_count": null,
      "outputs": [
        {
          "output_type": "stream",
          "name": "stdout",
          "text": [
            " * sqlite:///ecaa07_05_manipular.db\n",
            "1 rows affected.\n"
          ]
        },
        {
          "output_type": "execute_result",
          "data": {
            "text/plain": [
              "[]"
            ]
          },
          "metadata": {},
          "execution_count": 31
        }
      ]
    },
    {
      "cell_type": "code",
      "source": [
        "%sql SELECT last_insert_rowid()"
      ],
      "metadata": {
        "id": "1vsIyTKCzvas",
        "colab": {
          "base_uri": "https://localhost:8080/",
          "height": 98
        },
        "outputId": "93afc4a6-e0b0-42f0-fe9f-c4f507be71f2"
      },
      "execution_count": null,
      "outputs": [
        {
          "output_type": "stream",
          "name": "stdout",
          "text": [
            " * sqlite:///ecaa07_05_manipular.db\n",
            "Done.\n"
          ]
        },
        {
          "output_type": "execute_result",
          "data": {
            "text/plain": [
              "[(3,)]"
            ],
            "text/html": [
              "<table>\n",
              "    <thead>\n",
              "        <tr>\n",
              "            <th>last_insert_rowid()</th>\n",
              "        </tr>\n",
              "    </thead>\n",
              "    <tbody>\n",
              "        <tr>\n",
              "            <td>3</td>\n",
              "        </tr>\n",
              "    </tbody>\n",
              "</table>"
            ]
          },
          "metadata": {},
          "execution_count": 32
        }
      ]
    },
    {
      "cell_type": "code",
      "source": [
        "%sql SELECT * FROM Dispositivos"
      ],
      "metadata": {
        "id": "J3Q2hVcMz11F",
        "colab": {
          "base_uri": "https://localhost:8080/",
          "height": 140
        },
        "outputId": "451e7d84-f2c0-4958-c765-fa5d534b1c13"
      },
      "execution_count": null,
      "outputs": [
        {
          "output_type": "stream",
          "name": "stdout",
          "text": [
            " * sqlite:///ecaa07_05_manipular.db\n",
            "Done.\n"
          ]
        },
        {
          "output_type": "execute_result",
          "data": {
            "text/plain": [
              "[(1, 'Sensor Indutivo', 43252, '2022-09-20 19:16:52'),\n",
              " (2, 'Sensor Indutivo', 43252, '2022-09-20 19:18:30'),\n",
              " (3, 'Sensor Indutivo', 43252, '2022-09-20 19:18:31')]"
            ],
            "text/html": [
              "<table>\n",
              "    <thead>\n",
              "        <tr>\n",
              "            <th>IdDispositivo</th>\n",
              "            <th>Dispositivo</th>\n",
              "            <th>TagID</th>\n",
              "            <th>Criado</th>\n",
              "        </tr>\n",
              "    </thead>\n",
              "    <tbody>\n",
              "        <tr>\n",
              "            <td>1</td>\n",
              "            <td>Sensor Indutivo</td>\n",
              "            <td>43252</td>\n",
              "            <td>2022-09-20 19:16:52</td>\n",
              "        </tr>\n",
              "        <tr>\n",
              "            <td>2</td>\n",
              "            <td>Sensor Indutivo</td>\n",
              "            <td>43252</td>\n",
              "            <td>2022-09-20 19:18:30</td>\n",
              "        </tr>\n",
              "        <tr>\n",
              "            <td>3</td>\n",
              "            <td>Sensor Indutivo</td>\n",
              "            <td>43252</td>\n",
              "            <td>2022-09-20 19:18:31</td>\n",
              "        </tr>\n",
              "    </tbody>\n",
              "</table>"
            ]
          },
          "metadata": {},
          "execution_count": 33
        }
      ]
    },
    {
      "cell_type": "markdown",
      "source": [
        "# Inserindo Dados de Outras Tabelas"
      ],
      "metadata": {
        "id": "iC3gASPVwxVx"
      }
    },
    {
      "cell_type": "markdown",
      "source": [
        "```\n",
        "INSERT INTO <Tabela1> SELECT * FROM <Tabela2>\n",
        "```"
      ],
      "metadata": {
        "id": "69bRJBqew1EO"
      }
    },
    {
      "cell_type": "code",
      "source": [
        "%%sql\n",
        "DROP TABLE IF EXISTS Dispositivos2022;\n",
        "CREATE TABLE Dispositivos2022 (\n",
        "  IdDispositivo INTEGER PRIMARY KEY AUTOINCREMENT,\n",
        "  Dispositivo VARCHAR(255) NOT NULL,\n",
        "  TagID INTEGER,\n",
        "  Unidade VARCHAR(30) DEFAULT '-',\n",
        "  Criado DATETIME DEFAULT CURRENT_TIMESTAMP)"
      ],
      "metadata": {
        "id": "4KBdK5zAw0Rj",
        "colab": {
          "base_uri": "https://localhost:8080/"
        },
        "outputId": "45e17757-7bc0-40a5-c7cb-7486c33938fa"
      },
      "execution_count": null,
      "outputs": [
        {
          "output_type": "stream",
          "name": "stdout",
          "text": [
            " * sqlite:///ecaa07_05_manipular.db\n",
            "Done.\n",
            "Done.\n"
          ]
        },
        {
          "output_type": "execute_result",
          "data": {
            "text/plain": [
              "[]"
            ]
          },
          "metadata": {},
          "execution_count": 74
        }
      ]
    },
    {
      "cell_type": "code",
      "source": [
        "%%sql\n",
        "INSERT INTO Dispositivos2022\n",
        "  (Dispositivo, TagID, Criado)\n",
        "  SELECT d.dispositivo, d.TagID, d.Criado\n",
        "    FROM Dispositivos AS d"
      ],
      "metadata": {
        "colab": {
          "base_uri": "https://localhost:8080/"
        },
        "id": "9MHX-siTWoGh",
        "outputId": "5d8fbc1f-6dd7-4d4f-e41a-43d78a207e8b"
      },
      "execution_count": null,
      "outputs": [
        {
          "output_type": "stream",
          "name": "stdout",
          "text": [
            " * sqlite:///ecaa07_05_manipular.db\n",
            "3 rows affected.\n"
          ]
        },
        {
          "output_type": "execute_result",
          "data": {
            "text/plain": [
              "[]"
            ]
          },
          "metadata": {},
          "execution_count": 78
        }
      ]
    },
    {
      "cell_type": "code",
      "source": [
        "%%sql\n",
        "SELECT DISTINCT Dispositivo, TagID, Unidade, Criado\n",
        "  FROM Dispositivos2022"
      ],
      "metadata": {
        "colab": {
          "base_uri": "https://localhost:8080/",
          "height": 204
        },
        "id": "wRbyU9ynYM_j",
        "outputId": "6bc4da65-c178-451b-b433-d5f672fdcf5a"
      },
      "execution_count": null,
      "outputs": [
        {
          "output_type": "stream",
          "name": "stdout",
          "text": [
            " * sqlite:///ecaa07_05_manipular.db\n",
            "Done.\n"
          ]
        },
        {
          "output_type": "execute_result",
          "data": {
            "text/plain": [
              "[('Sensor Indutivo', 43252, 'metros', '2022-09-20 19:16:52'),\n",
              " ('Sensor Indutivo', 43252, 'metros', '2022-09-20 19:18:30'),\n",
              " ('Sensor Indutivo', 43252, 'metros', '2022-09-20 19:18:31'),\n",
              " ('Sensor Indutivo', 43252, '-', '2022-09-20 19:16:52'),\n",
              " ('Sensor Indutivo', 43252, '-', '2022-09-20 19:18:30'),\n",
              " ('Sensor Indutivo', 43252, '-', '2022-09-20 19:18:31')]"
            ],
            "text/html": [
              "<table>\n",
              "    <thead>\n",
              "        <tr>\n",
              "            <th>Dispositivo</th>\n",
              "            <th>TagID</th>\n",
              "            <th>Unidade</th>\n",
              "            <th>Criado</th>\n",
              "        </tr>\n",
              "    </thead>\n",
              "    <tbody>\n",
              "        <tr>\n",
              "            <td>Sensor Indutivo</td>\n",
              "            <td>43252</td>\n",
              "            <td>metros</td>\n",
              "            <td>2022-09-20 19:16:52</td>\n",
              "        </tr>\n",
              "        <tr>\n",
              "            <td>Sensor Indutivo</td>\n",
              "            <td>43252</td>\n",
              "            <td>metros</td>\n",
              "            <td>2022-09-20 19:18:30</td>\n",
              "        </tr>\n",
              "        <tr>\n",
              "            <td>Sensor Indutivo</td>\n",
              "            <td>43252</td>\n",
              "            <td>metros</td>\n",
              "            <td>2022-09-20 19:18:31</td>\n",
              "        </tr>\n",
              "        <tr>\n",
              "            <td>Sensor Indutivo</td>\n",
              "            <td>43252</td>\n",
              "            <td>-</td>\n",
              "            <td>2022-09-20 19:16:52</td>\n",
              "        </tr>\n",
              "        <tr>\n",
              "            <td>Sensor Indutivo</td>\n",
              "            <td>43252</td>\n",
              "            <td>-</td>\n",
              "            <td>2022-09-20 19:18:30</td>\n",
              "        </tr>\n",
              "        <tr>\n",
              "            <td>Sensor Indutivo</td>\n",
              "            <td>43252</td>\n",
              "            <td>-</td>\n",
              "            <td>2022-09-20 19:18:31</td>\n",
              "        </tr>\n",
              "    </tbody>\n",
              "</table>"
            ]
          },
          "metadata": {},
          "execution_count": 79
        }
      ]
    },
    {
      "cell_type": "code",
      "source": [
        "%%sql\n",
        "SELECT * FROM Dispositivos2022"
      ],
      "metadata": {
        "colab": {
          "base_uri": "https://localhost:8080/",
          "height": 247
        },
        "id": "LujmukS8Z8KC",
        "outputId": "8e887d03-f4e7-4233-ba8b-34b11ca51e9d"
      },
      "execution_count": null,
      "outputs": [
        {
          "output_type": "stream",
          "name": "stdout",
          "text": [
            " * sqlite:///ecaa07_05_manipular.db\n",
            "Done.\n"
          ]
        },
        {
          "output_type": "execute_result",
          "data": {
            "text/plain": [
              "[(1, 'Sensor Indutivo', 43052, 'metros', '2022-09-20 19:16:52'),\n",
              " (3, 'Sensor Indutivo', 43052, 'metros', '2022-09-20 19:18:31'),\n",
              " (4, 'Sensor Indutivo', 43052, 'metros', '2022-09-20 19:16:52'),\n",
              " (5, 'Sensor Indutivo', 43052, 'metros', '2022-09-20 19:18:30'),\n",
              " (6, 'Sensor Indutivo', 43052, 'metros', '2022-09-20 19:18:31'),\n",
              " (7, 'Sensor Indutivo', 44052, 'litros', '2022-10-02 19:50:29'),\n",
              " (8, 'Sensor Indutivo', 44052, 'litros', '2022-10-02 19:50:29'),\n",
              " (9, 'Sensor Indutivo', 44052, 'litros', '2022-10-02 19:50:29')]"
            ],
            "text/html": [
              "<table>\n",
              "    <thead>\n",
              "        <tr>\n",
              "            <th>IdDispositivo</th>\n",
              "            <th>Dispositivo</th>\n",
              "            <th>TagID</th>\n",
              "            <th>Unidade</th>\n",
              "            <th>Criado</th>\n",
              "        </tr>\n",
              "    </thead>\n",
              "    <tbody>\n",
              "        <tr>\n",
              "            <td>1</td>\n",
              "            <td>Sensor Indutivo</td>\n",
              "            <td>43052</td>\n",
              "            <td>metros</td>\n",
              "            <td>2022-09-20 19:16:52</td>\n",
              "        </tr>\n",
              "        <tr>\n",
              "            <td>3</td>\n",
              "            <td>Sensor Indutivo</td>\n",
              "            <td>43052</td>\n",
              "            <td>metros</td>\n",
              "            <td>2022-09-20 19:18:31</td>\n",
              "        </tr>\n",
              "        <tr>\n",
              "            <td>4</td>\n",
              "            <td>Sensor Indutivo</td>\n",
              "            <td>43052</td>\n",
              "            <td>metros</td>\n",
              "            <td>2022-09-20 19:16:52</td>\n",
              "        </tr>\n",
              "        <tr>\n",
              "            <td>5</td>\n",
              "            <td>Sensor Indutivo</td>\n",
              "            <td>43052</td>\n",
              "            <td>metros</td>\n",
              "            <td>2022-09-20 19:18:30</td>\n",
              "        </tr>\n",
              "        <tr>\n",
              "            <td>6</td>\n",
              "            <td>Sensor Indutivo</td>\n",
              "            <td>43052</td>\n",
              "            <td>metros</td>\n",
              "            <td>2022-09-20 19:18:31</td>\n",
              "        </tr>\n",
              "        <tr>\n",
              "            <td>7</td>\n",
              "            <td>Sensor Indutivo</td>\n",
              "            <td>44052</td>\n",
              "            <td>litros</td>\n",
              "            <td>2022-10-02 19:50:29</td>\n",
              "        </tr>\n",
              "        <tr>\n",
              "            <td>8</td>\n",
              "            <td>Sensor Indutivo</td>\n",
              "            <td>44052</td>\n",
              "            <td>litros</td>\n",
              "            <td>2022-10-02 19:50:29</td>\n",
              "        </tr>\n",
              "        <tr>\n",
              "            <td>9</td>\n",
              "            <td>Sensor Indutivo</td>\n",
              "            <td>44052</td>\n",
              "            <td>litros</td>\n",
              "            <td>2022-10-02 19:50:29</td>\n",
              "        </tr>\n",
              "    </tbody>\n",
              "</table>"
            ]
          },
          "metadata": {},
          "execution_count": 115
        }
      ]
    },
    {
      "cell_type": "markdown",
      "source": [
        "# Atualizar Dados Existentes"
      ],
      "metadata": {
        "id": "cWydBOxtxHeF"
      }
    },
    {
      "cell_type": "markdown",
      "source": [
        "\n",
        "\n",
        "```\n",
        "UPDATE <Tabela> SET <campo>=<valor> WHERE <campo>=<filtro>\n",
        "```\n",
        "\n"
      ],
      "metadata": {
        "id": "_UX0FQiOxOF1"
      }
    },
    {
      "cell_type": "code",
      "source": [
        "%%sql\n",
        "UPDATE Dispositivos2022\n",
        "  SET Unidade = 'litros'\n",
        "  WHERE Unidade = '-'"
      ],
      "metadata": {
        "id": "1KClOwowxOd1",
        "colab": {
          "base_uri": "https://localhost:8080/"
        },
        "outputId": "b5eebd63-e45a-4b15-c77f-3d2d1732566f"
      },
      "execution_count": null,
      "outputs": [
        {
          "output_type": "stream",
          "name": "stdout",
          "text": [
            " * sqlite:///ecaa07_05_manipular.db\n",
            "3 rows affected.\n"
          ]
        },
        {
          "output_type": "execute_result",
          "data": {
            "text/plain": [
              "[]"
            ]
          },
          "metadata": {},
          "execution_count": 82
        }
      ]
    },
    {
      "cell_type": "markdown",
      "source": [
        "\n",
        "\n",
        "```\n",
        "SET <campo1>=<valor1>, <campo2>=<valor2>,...\n",
        "```\n",
        "\n"
      ],
      "metadata": {
        "id": "CYc3GuGQ0Bda"
      }
    },
    {
      "cell_type": "code",
      "source": [
        "%%sql\n",
        "UPDATE Dispositivos2022\n",
        "  SET Unidade = 'metros'"
      ],
      "metadata": {
        "id": "ZR_d0T3d0GDq",
        "colab": {
          "base_uri": "https://localhost:8080/"
        },
        "outputId": "baeaf570-38d7-47d9-bd7a-c2033e951eca"
      },
      "execution_count": null,
      "outputs": [
        {
          "output_type": "stream",
          "name": "stdout",
          "text": [
            " * sqlite:///ecaa07_05_manipular.db\n",
            "6 rows affected.\n"
          ]
        },
        {
          "output_type": "execute_result",
          "data": {
            "text/plain": [
              "[]"
            ]
          },
          "metadata": {},
          "execution_count": 77
        }
      ]
    },
    {
      "cell_type": "markdown",
      "source": [
        "\n",
        "\n",
        "```\n",
        "SET Media = (Nota1 + Nota2)/2\n",
        "```\n",
        "\n"
      ],
      "metadata": {
        "id": "uVsLDhZO0GVu"
      }
    },
    {
      "cell_type": "code",
      "source": [
        "%%sql\n",
        "UPDATE Dispositivos2022\n",
        "  SET TagID = TagID - 200\n",
        "  WHERE Unidade = 'metros'"
      ],
      "metadata": {
        "id": "ssihir6k0JbS",
        "colab": {
          "base_uri": "https://localhost:8080/"
        },
        "outputId": "8062ce2f-9d3f-4f62-b0b0-58c865e25e91"
      },
      "execution_count": null,
      "outputs": [
        {
          "output_type": "stream",
          "name": "stdout",
          "text": [
            " * sqlite:///ecaa07_05_manipular.db\n",
            "6 rows affected.\n"
          ]
        },
        {
          "output_type": "execute_result",
          "data": {
            "text/plain": [
              "[]"
            ]
          },
          "metadata": {},
          "execution_count": 84
        }
      ]
    },
    {
      "cell_type": "markdown",
      "source": [
        "\n",
        "\n",
        "```\n",
        "SET Inscricao = DATE('now')\n",
        "```\n",
        "\n"
      ],
      "metadata": {
        "id": "gh81dqsS0J4_"
      }
    },
    {
      "cell_type": "code",
      "source": [
        "%%sql\n",
        "UPDATE Dispositivos2022\n",
        "  SET Criado = DATETIME('now')\n",
        "  WHERE Unidade = 'litros'"
      ],
      "metadata": {
        "id": "oYY4i8Ei0Mom",
        "colab": {
          "base_uri": "https://localhost:8080/"
        },
        "outputId": "c1bbe9c8-7256-44bf-c07e-543f4732e93a"
      },
      "execution_count": null,
      "outputs": [
        {
          "output_type": "stream",
          "name": "stdout",
          "text": [
            " * sqlite:///ecaa07_05_manipular.db\n",
            "3 rows affected.\n"
          ]
        },
        {
          "output_type": "execute_result",
          "data": {
            "text/plain": [
              "[]"
            ]
          },
          "metadata": {},
          "execution_count": 92
        }
      ]
    },
    {
      "cell_type": "markdown",
      "source": [
        "\n",
        "\n",
        "```\n",
        "WHERE <campo> IN (SELECT <campo> FROM <tabela>)\n",
        "\n",
        "WHERE <campo> IN (\n",
        "  SELECT <campo>\n",
        "  FROM <tabela1> INNER JOIN <tabela2>\n",
        "    ON <tabela1>.<campo> = <tabela2>.<campo>\n",
        "  )\n",
        "\n",
        "```\n",
        "\n"
      ],
      "metadata": {
        "id": "UyFa8RsY0SOA"
      }
    },
    {
      "cell_type": "code",
      "source": [
        "%%sql\n",
        "UPDATE Dispositivos2022\n",
        "  SET TagID = TagID + 200, Criado = DATETIME(Criado, '+3 days')\n",
        "  WHERE Unidade = 'litros'"
      ],
      "metadata": {
        "id": "lU_9_mLZ0VE9",
        "colab": {
          "base_uri": "https://localhost:8080/"
        },
        "outputId": "b60b8b67-9c7e-497e-cbb0-79baab0bdd08"
      },
      "execution_count": null,
      "outputs": [
        {
          "output_type": "stream",
          "name": "stdout",
          "text": [
            " * sqlite:///ecaa07_05_manipular.db\n",
            "3 rows affected.\n"
          ]
        },
        {
          "output_type": "execute_result",
          "data": {
            "text/plain": [
              "[]"
            ]
          },
          "metadata": {},
          "execution_count": 98
        }
      ]
    },
    {
      "cell_type": "code",
      "source": [
        "%%sql\n",
        "-- Proteção para nova execução\n",
        "DROP TABLE IF EXISTS Maquinas;\n",
        "DROP TABLE IF EXISTS Controles;\n",
        "DROP TABLE IF EXISTS Sensores;\n",
        "-- Tabela de máquinas da linha\n",
        "CREATE TABLE Maquinas (\n",
        "  Maquina_id INTEGER PRIMARY KEY AUTOINCREMENT,\n",
        "  Maquina VARCHAR(255) NOT NULL,\n",
        "  Criado DATETIME DEFAULT CURRENT_TIMESTAMP);\n",
        "-- Tabela de controladores da linha\n",
        "CREATE TABLE Controles (\n",
        "  Controle_id INTEGER PRIMARY KEY AUTOINCREMENT,\n",
        "  Controle VARCHAR(255) NOT NULL,\n",
        "  Maquina_id INTEGER REFERENCES Maquinas(Maquina_id),\n",
        "  Criado DATETIME DEFAULT CURRENT_TIMESTAMP);\n",
        "-- Sensores\n",
        "CREATE TABLE Sensores (\n",
        "  Sensor_id INTEGER PRIMARY KEY AUTOINCREMENT,\n",
        "  Sensor VARCHAR(255) NOT NULL,\n",
        "  Tipo VARCHAR(10),\n",
        "  Controle_id INTEGER REFERENCES Controles(Controle_id),\n",
        "  Criado DATETIME DEFAULT CURRENT_TIMESTAMP);\n",
        "-- Inserindo\n",
        "INSERT INTO Maquinas(Maquina) VALUES ('Prensa 5032');\n",
        "INSERT INTO Controles(Controle, Maquina_id) VALUES ('CLP 123',last_insert_rowid());\n",
        "INSERT INTO Sensores(Sensor,Controle_id,Tipo) VALUES ('M43897',last_insert_rowid(),'Temp');\n",
        "INSERT INTO Maquinas(Maquina) VALUES ('Cortadora 3241');\n",
        "INSERT INTO Controles(Controle, Maquina_id) VALUES ('CLP 124',last_insert_rowid());\n",
        "INSERT INTO Sensores(Sensor,Controle_id,Tipo) VALUES ('K438975',last_insert_rowid(),'Umid');\n",
        "INSERT INTO Maquinas(Maquina) VALUES ('Solagem 7652');\n",
        "INSERT INTO Controles(Controle, Maquina_id) VALUES ('CLP 125',last_insert_rowid());\n",
        "INSERT INTO Sensores(Sensor,Controle_id,Tipo) VALUES ('V213432',last_insert_rowid(),'Tensao');\n",
        "INSERT INTO Maquinas(Maquina) VALUES ('Elevador 6234');\n",
        "INSERT INTO Controles(Controle, Maquina_id) VALUES ('CLP 126',last_insert_rowid());\n",
        "INSERT INTO Sensores(Sensor,Controle_id,Tipo) VALUES ('V65730',last_insert_rowid(),'Tensao');\n"
      ],
      "metadata": {
        "colab": {
          "base_uri": "https://localhost:8080/"
        },
        "id": "cX0Gqa_eeUYL",
        "outputId": "c6eebb13-cb30-4214-8ad8-e21a09a7ccc0"
      },
      "execution_count": null,
      "outputs": [
        {
          "output_type": "stream",
          "name": "stdout",
          "text": [
            " * sqlite:///ecaa07_05_manipular.db\n",
            "Done.\n",
            "Done.\n",
            "Done.\n",
            "Done.\n",
            "Done.\n",
            "Done.\n",
            "Done.\n",
            "1 rows affected.\n",
            "1 rows affected.\n",
            "1 rows affected.\n",
            "1 rows affected.\n",
            "1 rows affected.\n",
            "1 rows affected.\n",
            "1 rows affected.\n",
            "1 rows affected.\n",
            "1 rows affected.\n",
            "1 rows affected.\n",
            "1 rows affected.\n"
          ]
        },
        {
          "output_type": "execute_result",
          "data": {
            "text/plain": [
              "[]"
            ]
          },
          "metadata": {},
          "execution_count": 106
        }
      ]
    },
    {
      "cell_type": "code",
      "source": [
        "%sql SELECT * FROM Maquinas"
      ],
      "metadata": {
        "colab": {
          "base_uri": "https://localhost:8080/",
          "height": 162
        },
        "id": "GFadLx8vf_iq",
        "outputId": "c9a65068-103b-491d-a2d1-6cbe7c021e8d"
      },
      "execution_count": null,
      "outputs": [
        {
          "output_type": "stream",
          "name": "stdout",
          "text": [
            " * sqlite:///ecaa07_05_manipular.db\n",
            "Done.\n"
          ]
        },
        {
          "output_type": "execute_result",
          "data": {
            "text/plain": [
              "[(1, 'Prensa 5032', '2022-09-20 20:03:30'),\n",
              " (2, 'Cortadora 3241', '2022-09-20 20:03:30'),\n",
              " (3, 'Solagem 7652 - Atualizada', '2022-09-20 20:03:30'),\n",
              " (4, 'Elevador 6234 - Atualizada', '2022-09-20 20:03:30')]"
            ],
            "text/html": [
              "<table>\n",
              "    <thead>\n",
              "        <tr>\n",
              "            <th>Maquina_id</th>\n",
              "            <th>Maquina</th>\n",
              "            <th>Criado</th>\n",
              "        </tr>\n",
              "    </thead>\n",
              "    <tbody>\n",
              "        <tr>\n",
              "            <td>1</td>\n",
              "            <td>Prensa 5032</td>\n",
              "            <td>2022-09-20 20:03:30</td>\n",
              "        </tr>\n",
              "        <tr>\n",
              "            <td>2</td>\n",
              "            <td>Cortadora 3241</td>\n",
              "            <td>2022-09-20 20:03:30</td>\n",
              "        </tr>\n",
              "        <tr>\n",
              "            <td>3</td>\n",
              "            <td>Solagem 7652 - Atualizada</td>\n",
              "            <td>2022-09-20 20:03:30</td>\n",
              "        </tr>\n",
              "        <tr>\n",
              "            <td>4</td>\n",
              "            <td>Elevador 6234 - Atualizada</td>\n",
              "            <td>2022-09-20 20:03:30</td>\n",
              "        </tr>\n",
              "    </tbody>\n",
              "</table>"
            ]
          },
          "metadata": {},
          "execution_count": 111
        }
      ]
    },
    {
      "cell_type": "code",
      "source": [
        "%sql SELECT * FROM Controles"
      ],
      "metadata": {
        "colab": {
          "base_uri": "https://localhost:8080/",
          "height": 162
        },
        "id": "ppEgSvvigEuR",
        "outputId": "aeea1a74-01c6-4673-845a-fc3ed086b453"
      },
      "execution_count": null,
      "outputs": [
        {
          "output_type": "stream",
          "name": "stdout",
          "text": [
            " * sqlite:///ecaa07_05_manipular.db\n",
            "Done.\n"
          ]
        },
        {
          "output_type": "execute_result",
          "data": {
            "text/plain": [
              "[(1, 'CLP 123', 1, '2022-09-20 20:03:30'),\n",
              " (2, 'CLP 124', 2, '2022-09-20 20:03:30'),\n",
              " (3, 'CLP 125', 3, '2022-09-20 20:03:30'),\n",
              " (4, 'CLP 126', 4, '2022-09-20 20:03:30')]"
            ],
            "text/html": [
              "<table>\n",
              "    <thead>\n",
              "        <tr>\n",
              "            <th>Controle_id</th>\n",
              "            <th>Controle</th>\n",
              "            <th>Maquina_id</th>\n",
              "            <th>Criado</th>\n",
              "        </tr>\n",
              "    </thead>\n",
              "    <tbody>\n",
              "        <tr>\n",
              "            <td>1</td>\n",
              "            <td>CLP 123</td>\n",
              "            <td>1</td>\n",
              "            <td>2022-09-20 20:03:30</td>\n",
              "        </tr>\n",
              "        <tr>\n",
              "            <td>2</td>\n",
              "            <td>CLP 124</td>\n",
              "            <td>2</td>\n",
              "            <td>2022-09-20 20:03:30</td>\n",
              "        </tr>\n",
              "        <tr>\n",
              "            <td>3</td>\n",
              "            <td>CLP 125</td>\n",
              "            <td>3</td>\n",
              "            <td>2022-09-20 20:03:30</td>\n",
              "        </tr>\n",
              "        <tr>\n",
              "            <td>4</td>\n",
              "            <td>CLP 126</td>\n",
              "            <td>4</td>\n",
              "            <td>2022-09-20 20:03:30</td>\n",
              "        </tr>\n",
              "    </tbody>\n",
              "</table>"
            ]
          },
          "metadata": {},
          "execution_count": 108
        }
      ]
    },
    {
      "cell_type": "code",
      "source": [
        "%sql SELECT * FROM Sensores"
      ],
      "metadata": {
        "colab": {
          "base_uri": "https://localhost:8080/",
          "height": 162
        },
        "id": "j_bR5I-BgGOY",
        "outputId": "b4005124-9c41-46e1-8c39-48578f4167ae"
      },
      "execution_count": null,
      "outputs": [
        {
          "output_type": "stream",
          "name": "stdout",
          "text": [
            " * sqlite:///ecaa07_05_manipular.db\n",
            "Done.\n"
          ]
        },
        {
          "output_type": "execute_result",
          "data": {
            "text/plain": [
              "[(1, 'M43897', 'Temp', 1, '2022-09-20 20:03:30'),\n",
              " (2, 'K438975', 'Umid', 2, '2022-09-20 20:03:30'),\n",
              " (3, 'V213432', 'Tensao', 3, '2022-09-20 20:03:30'),\n",
              " (4, 'V65730', 'Tensao', 4, '2022-09-20 20:03:30')]"
            ],
            "text/html": [
              "<table>\n",
              "    <thead>\n",
              "        <tr>\n",
              "            <th>Sensor_id</th>\n",
              "            <th>Sensor</th>\n",
              "            <th>Tipo</th>\n",
              "            <th>Controle_id</th>\n",
              "            <th>Criado</th>\n",
              "        </tr>\n",
              "    </thead>\n",
              "    <tbody>\n",
              "        <tr>\n",
              "            <td>1</td>\n",
              "            <td>M43897</td>\n",
              "            <td>Temp</td>\n",
              "            <td>1</td>\n",
              "            <td>2022-09-20 20:03:30</td>\n",
              "        </tr>\n",
              "        <tr>\n",
              "            <td>2</td>\n",
              "            <td>K438975</td>\n",
              "            <td>Umid</td>\n",
              "            <td>2</td>\n",
              "            <td>2022-09-20 20:03:30</td>\n",
              "        </tr>\n",
              "        <tr>\n",
              "            <td>3</td>\n",
              "            <td>V213432</td>\n",
              "            <td>Tensao</td>\n",
              "            <td>3</td>\n",
              "            <td>2022-09-20 20:03:30</td>\n",
              "        </tr>\n",
              "        <tr>\n",
              "            <td>4</td>\n",
              "            <td>V65730</td>\n",
              "            <td>Tensao</td>\n",
              "            <td>4</td>\n",
              "            <td>2022-09-20 20:03:30</td>\n",
              "        </tr>\n",
              "    </tbody>\n",
              "</table>"
            ]
          },
          "metadata": {},
          "execution_count": 112
        }
      ]
    },
    {
      "cell_type": "code",
      "source": [
        "%%sql\n",
        "UPDATE Maquinas SET Maquina = Maquina || \" - Atualizada\"\n",
        "  WHERE Maquina_id IN (\n",
        "    SELECT c.Maquina_id FROM Controles as c\n",
        "      INNER JOIN Sensores as s ON c.Controle_id = s.Controle_id\n",
        "      WHERE s.Tipo = \"Tensao\"\n",
        "  )\n"
      ],
      "metadata": {
        "colab": {
          "base_uri": "https://localhost:8080/"
        },
        "id": "S6CVA-KgguWA",
        "outputId": "7e79044a-a337-4971-9419-b3d3acc06b92"
      },
      "execution_count": null,
      "outputs": [
        {
          "output_type": "stream",
          "name": "stdout",
          "text": [
            " * sqlite:///ecaa07_05_manipular.db\n",
            "2 rows affected.\n"
          ]
        },
        {
          "output_type": "execute_result",
          "data": {
            "text/plain": [
              "[]"
            ]
          },
          "metadata": {},
          "execution_count": 110
        }
      ]
    },
    {
      "cell_type": "markdown",
      "source": [
        "# Remover Dados"
      ],
      "metadata": {
        "id": "3A2ZiN1p0kVF"
      }
    },
    {
      "cell_type": "markdown",
      "source": [
        "\n",
        "\n",
        "```\n",
        "DELETE FROM <Tabela> WHERE <campo> = <filtro>\n",
        "```\n",
        "\n"
      ],
      "metadata": {
        "id": "xSsyHLn50oWq"
      }
    },
    {
      "cell_type": "code",
      "source": [
        "%sql DELETE FROM Dispositivos2022 WHERE IdDispositivo = 19"
      ],
      "metadata": {
        "id": "pSKPxkOW0n36",
        "colab": {
          "base_uri": "https://localhost:8080/"
        },
        "outputId": "2050e72f-4a8f-471a-f635-0f28188cb932"
      },
      "execution_count": null,
      "outputs": [
        {
          "output_type": "stream",
          "name": "stdout",
          "text": [
            " * sqlite:///ecaa07_05_manipular.db\n",
            "0 rows affected.\n"
          ]
        },
        {
          "output_type": "execute_result",
          "data": {
            "text/plain": [
              "[]"
            ]
          },
          "metadata": {},
          "execution_count": 116
        }
      ]
    },
    {
      "cell_type": "code",
      "source": [
        "%sql SELECT * FROM Dispositivos2022"
      ],
      "metadata": {
        "colab": {
          "base_uri": "https://localhost:8080/",
          "height": 247
        },
        "id": "urdQdB9QidyP",
        "outputId": "e6b35b98-e0dd-4bf0-95c3-2335f1816291"
      },
      "execution_count": null,
      "outputs": [
        {
          "output_type": "stream",
          "name": "stdout",
          "text": [
            " * sqlite:///ecaa07_05_manipular.db\n",
            "Done.\n"
          ]
        },
        {
          "output_type": "execute_result",
          "data": {
            "text/plain": [
              "[(1, 'Sensor Indutivo', 43052, 'metros', '2022-09-20 19:16:52', None),\n",
              " (3, 'Sensor Indutivo', 43052, 'metros', '2022-09-20 19:18:31', '2022-09-20 20:20:12'),\n",
              " (4, 'Sensor Indutivo', 43052, 'metros', '2022-09-20 19:16:52', None),\n",
              " (5, 'Sensor Indutivo', 43052, 'metros', '2022-09-20 19:18:30', None),\n",
              " (6, 'Sensor Indutivo', 43052, 'metros', '2022-09-20 19:18:31', None),\n",
              " (7, 'Sensor Indutivo', 44052, 'litros', '2022-10-02 19:50:29', None),\n",
              " (8, 'Sensor Indutivo', 44052, 'litros', '2022-10-02 19:50:29', None),\n",
              " (9, 'Sensor Indutivo', 44052, 'litros', '2022-10-02 19:50:29', None)]"
            ],
            "text/html": [
              "<table>\n",
              "    <thead>\n",
              "        <tr>\n",
              "            <th>IdDispositivo</th>\n",
              "            <th>Dispositivo</th>\n",
              "            <th>TagID</th>\n",
              "            <th>Unidade</th>\n",
              "            <th>Criado</th>\n",
              "            <th>Apagado</th>\n",
              "        </tr>\n",
              "    </thead>\n",
              "    <tbody>\n",
              "        <tr>\n",
              "            <td>1</td>\n",
              "            <td>Sensor Indutivo</td>\n",
              "            <td>43052</td>\n",
              "            <td>metros</td>\n",
              "            <td>2022-09-20 19:16:52</td>\n",
              "            <td>None</td>\n",
              "        </tr>\n",
              "        <tr>\n",
              "            <td>3</td>\n",
              "            <td>Sensor Indutivo</td>\n",
              "            <td>43052</td>\n",
              "            <td>metros</td>\n",
              "            <td>2022-09-20 19:18:31</td>\n",
              "            <td>2022-09-20 20:20:12</td>\n",
              "        </tr>\n",
              "        <tr>\n",
              "            <td>4</td>\n",
              "            <td>Sensor Indutivo</td>\n",
              "            <td>43052</td>\n",
              "            <td>metros</td>\n",
              "            <td>2022-09-20 19:16:52</td>\n",
              "            <td>None</td>\n",
              "        </tr>\n",
              "        <tr>\n",
              "            <td>5</td>\n",
              "            <td>Sensor Indutivo</td>\n",
              "            <td>43052</td>\n",
              "            <td>metros</td>\n",
              "            <td>2022-09-20 19:18:30</td>\n",
              "            <td>None</td>\n",
              "        </tr>\n",
              "        <tr>\n",
              "            <td>6</td>\n",
              "            <td>Sensor Indutivo</td>\n",
              "            <td>43052</td>\n",
              "            <td>metros</td>\n",
              "            <td>2022-09-20 19:18:31</td>\n",
              "            <td>None</td>\n",
              "        </tr>\n",
              "        <tr>\n",
              "            <td>7</td>\n",
              "            <td>Sensor Indutivo</td>\n",
              "            <td>44052</td>\n",
              "            <td>litros</td>\n",
              "            <td>2022-10-02 19:50:29</td>\n",
              "            <td>None</td>\n",
              "        </tr>\n",
              "        <tr>\n",
              "            <td>8</td>\n",
              "            <td>Sensor Indutivo</td>\n",
              "            <td>44052</td>\n",
              "            <td>litros</td>\n",
              "            <td>2022-10-02 19:50:29</td>\n",
              "            <td>None</td>\n",
              "        </tr>\n",
              "        <tr>\n",
              "            <td>9</td>\n",
              "            <td>Sensor Indutivo</td>\n",
              "            <td>44052</td>\n",
              "            <td>litros</td>\n",
              "            <td>2022-10-02 19:50:29</td>\n",
              "            <td>None</td>\n",
              "        </tr>\n",
              "    </tbody>\n",
              "</table>"
            ]
          },
          "metadata": {},
          "execution_count": 124
        }
      ]
    },
    {
      "cell_type": "markdown",
      "source": [
        "## Utilizando campo de remoção"
      ],
      "metadata": {
        "id": "Gvq9n81E0tPd"
      }
    },
    {
      "cell_type": "code",
      "source": [
        "%%sql\n",
        "ALTER TABLE Dispositivos2022\n",
        "  ADD COLUMN Apagado DATETIME DEFAULT NULL"
      ],
      "metadata": {
        "id": "iqPiGvvI00SD",
        "colab": {
          "base_uri": "https://localhost:8080/"
        },
        "outputId": "ec1d0f5d-d9a2-4c69-fb20-fc621e97e3b6"
      },
      "execution_count": null,
      "outputs": [
        {
          "output_type": "stream",
          "name": "stdout",
          "text": [
            " * sqlite:///ecaa07_05_manipular.db\n",
            "Done.\n"
          ]
        },
        {
          "output_type": "execute_result",
          "data": {
            "text/plain": [
              "[]"
            ]
          },
          "metadata": {},
          "execution_count": 118
        }
      ]
    },
    {
      "cell_type": "code",
      "source": [
        "%%sql\n",
        "UPDATE Dispositivos2022 SET Apagado = DATETIME('now')\n",
        "  WHERE IdDispositivo = 3\n"
      ],
      "metadata": {
        "colab": {
          "base_uri": "https://localhost:8080/"
        },
        "id": "NOfgcPYviuar",
        "outputId": "cd05d0a5-82e9-47c0-fb8c-c23b6b624560"
      },
      "execution_count": null,
      "outputs": [
        {
          "output_type": "stream",
          "name": "stdout",
          "text": [
            " * sqlite:///ecaa07_05_manipular.db\n",
            "1 rows affected.\n"
          ]
        },
        {
          "output_type": "execute_result",
          "data": {
            "text/plain": [
              "[]"
            ]
          },
          "metadata": {},
          "execution_count": 121
        }
      ]
    },
    {
      "cell_type": "code",
      "source": [
        "%sql SELECT * FROM Dispositivos2022 WHERE Apagado IS NULL\n"
      ],
      "metadata": {
        "colab": {
          "base_uri": "https://localhost:8080/",
          "height": 226
        },
        "id": "HIXXaSVJjyaA",
        "outputId": "351613fa-95da-4197-dd05-0d3c7c23b349"
      },
      "execution_count": null,
      "outputs": [
        {
          "output_type": "stream",
          "name": "stdout",
          "text": [
            " * sqlite:///ecaa07_05_manipular.db\n",
            "Done.\n"
          ]
        },
        {
          "output_type": "execute_result",
          "data": {
            "text/plain": [
              "[(1, 'Sensor Indutivo', 43052, 'metros', '2022-09-20 19:16:52', None),\n",
              " (4, 'Sensor Indutivo', 43052, 'metros', '2022-09-20 19:16:52', None),\n",
              " (5, 'Sensor Indutivo', 43052, 'metros', '2022-09-20 19:18:30', None),\n",
              " (6, 'Sensor Indutivo', 43052, 'metros', '2022-09-20 19:18:31', None),\n",
              " (7, 'Sensor Indutivo', 44052, 'litros', '2022-10-02 19:50:29', None),\n",
              " (8, 'Sensor Indutivo', 44052, 'litros', '2022-10-02 19:50:29', None),\n",
              " (9, 'Sensor Indutivo', 44052, 'litros', '2022-10-02 19:50:29', None)]"
            ],
            "text/html": [
              "<table>\n",
              "    <thead>\n",
              "        <tr>\n",
              "            <th>IdDispositivo</th>\n",
              "            <th>Dispositivo</th>\n",
              "            <th>TagID</th>\n",
              "            <th>Unidade</th>\n",
              "            <th>Criado</th>\n",
              "            <th>Apagado</th>\n",
              "        </tr>\n",
              "    </thead>\n",
              "    <tbody>\n",
              "        <tr>\n",
              "            <td>1</td>\n",
              "            <td>Sensor Indutivo</td>\n",
              "            <td>43052</td>\n",
              "            <td>metros</td>\n",
              "            <td>2022-09-20 19:16:52</td>\n",
              "            <td>None</td>\n",
              "        </tr>\n",
              "        <tr>\n",
              "            <td>4</td>\n",
              "            <td>Sensor Indutivo</td>\n",
              "            <td>43052</td>\n",
              "            <td>metros</td>\n",
              "            <td>2022-09-20 19:16:52</td>\n",
              "            <td>None</td>\n",
              "        </tr>\n",
              "        <tr>\n",
              "            <td>5</td>\n",
              "            <td>Sensor Indutivo</td>\n",
              "            <td>43052</td>\n",
              "            <td>metros</td>\n",
              "            <td>2022-09-20 19:18:30</td>\n",
              "            <td>None</td>\n",
              "        </tr>\n",
              "        <tr>\n",
              "            <td>6</td>\n",
              "            <td>Sensor Indutivo</td>\n",
              "            <td>43052</td>\n",
              "            <td>metros</td>\n",
              "            <td>2022-09-20 19:18:31</td>\n",
              "            <td>None</td>\n",
              "        </tr>\n",
              "        <tr>\n",
              "            <td>7</td>\n",
              "            <td>Sensor Indutivo</td>\n",
              "            <td>44052</td>\n",
              "            <td>litros</td>\n",
              "            <td>2022-10-02 19:50:29</td>\n",
              "            <td>None</td>\n",
              "        </tr>\n",
              "        <tr>\n",
              "            <td>8</td>\n",
              "            <td>Sensor Indutivo</td>\n",
              "            <td>44052</td>\n",
              "            <td>litros</td>\n",
              "            <td>2022-10-02 19:50:29</td>\n",
              "            <td>None</td>\n",
              "        </tr>\n",
              "        <tr>\n",
              "            <td>9</td>\n",
              "            <td>Sensor Indutivo</td>\n",
              "            <td>44052</td>\n",
              "            <td>litros</td>\n",
              "            <td>2022-10-02 19:50:29</td>\n",
              "            <td>None</td>\n",
              "        </tr>\n",
              "    </tbody>\n",
              "</table>"
            ]
          },
          "metadata": {},
          "execution_count": 123
        }
      ]
    },
    {
      "cell_type": "markdown",
      "source": [
        "# SQL TCL (*Transaction Control Language*)"
      ],
      "metadata": {
        "id": "xzIW4aQd31Kz"
      }
    },
    {
      "cell_type": "markdown",
      "source": [
        "Gestão do fluxo de informação da DML\n",
        "```\n",
        "BEGIN TRANSACTION;\n",
        "\n",
        "UPDATE ...\n",
        "UPDATE ...\n",
        "UPDATE ...\n",
        "UPDATE ...\n",
        "UPDATE ...\n",
        "UPDATE ...\n",
        "\n",
        "INSERT INTO ...\n",
        "INSERT INTO ...\n",
        "INSERT INTO ...\n",
        "INSERT INTO ...\n",
        "INSERT INTO ...\n",
        "INSERT INTO ...\n",
        "\n",
        "COMMIT;\n",
        "```"
      ],
      "metadata": {
        "id": "crf1ZP8J5kru"
      }
    },
    {
      "cell_type": "markdown",
      "source": [
        "\n",
        "\n",
        "```\n",
        "BEGIN TRANSACTION;\n",
        "\n",
        "...\n",
        "\n",
        "ROLLBACK;\n",
        "```\n",
        "\n"
      ],
      "metadata": {
        "id": "kZX3u5CF51Yw"
      }
    },
    {
      "cell_type": "code",
      "source": [
        "%%time\n",
        "import pandas as pd\n",
        "import sqlite3\n",
        "\n",
        "df = pd.read_csv('https://raw.githubusercontent.com/valerio-unifei/ECAA07/main/Bancos/tr2_8867.csv')\n",
        "print(f'Tabela linhas:{df.shape[0]} colunas:{df.shape[1]}')\n",
        "\n",
        "print('Abrindo/Criando banco')\n",
        "cn = sqlite3.Connection('tran_exemplo.db')\n",
        "\n",
        "print('Criando Tabela Medidas')\n",
        "cn.execute('DROP TABLE IF EXISTS Medidas')\n",
        "cn.execute('''CREATE TABLE Medidas (\n",
        "  Medidas_id INTEGER PRIMARY KEY AUTOINCREMENT,\n",
        "  Medida REAL,\n",
        "  Criado DATETIME DEFAULT CURRENT_TIMESTAMP)\n",
        "''')\n",
        "\n",
        "print('Inserindo Registros')\n",
        "for id, row in df.iterrows():\n",
        "  cn.execute('INSERT INTO Medidas(Medida) VALUES (?)',[row[3]])\n",
        "  cn.commit()\n",
        "\n",
        "print('Fecha o banco')\n",
        "cn.close()\n"
      ],
      "metadata": {
        "id": "D8LiDpZt5lP8",
        "colab": {
          "base_uri": "https://localhost:8080/"
        },
        "outputId": "bd61dc9d-061a-4fe8-f701-b31971609642"
      },
      "execution_count": null,
      "outputs": [
        {
          "output_type": "stream",
          "name": "stdout",
          "text": [
            "Tabela linhas:3000 colunas:5\n",
            "Abrindo/Criando banco\n",
            "Criando Tabela Medidas\n",
            "Inserindo Registros\n",
            "Fecha o banco\n",
            "CPU times: user 1.49 s, sys: 1.26 s, total: 2.75 s\n",
            "Wall time: 27.3 s\n"
          ]
        }
      ]
    },
    {
      "cell_type": "code",
      "source": [
        "%%time\n",
        "import pandas as pd\n",
        "import sqlite3\n",
        "\n",
        "df = pd.read_csv('https://raw.githubusercontent.com/valerio-unifei/ECAA07/main/Bancos/tr2_8867.csv')\n",
        "print(f'Tabela linhas:{df.shape[0]} colunas:{df.shape[1]}')\n",
        "\n",
        "print('Abrindo/Criando banco')\n",
        "cn = sqlite3.Connection('tran_exemplo.db')\n",
        "\n",
        "print('Criando Tabela Medidas')\n",
        "cn.execute('DROP TABLE IF EXISTS Medidas')\n",
        "cn.execute('''CREATE TABLE Medidas (\n",
        "  Medidas_id INTEGER PRIMARY KEY AUTOINCREMENT,\n",
        "  Medida REAL,\n",
        "  Criado DATETIME DEFAULT CURRENT_TIMESTAMP)\n",
        "''')\n",
        "\n",
        "print('Inserindo Registros')\n",
        "for id, row in df.iterrows():\n",
        "  cn.execute('INSERT INTO Medidas(Medida) VALUES (?)',[row[3]])\n",
        "# Transação só ocorre 1 vez para todos os registros\n",
        "cn.commit()\n",
        "\n",
        "print('Fecha o banco')\n",
        "cn.close()\n"
      ],
      "metadata": {
        "colab": {
          "base_uri": "https://localhost:8080/"
        },
        "id": "tW52p300maAJ",
        "outputId": "9cd23bbc-e64b-41ab-c0d1-edb1312ae018"
      },
      "execution_count": null,
      "outputs": [
        {
          "output_type": "stream",
          "name": "stdout",
          "text": [
            "Tabela linhas:3000 colunas:5\n",
            "Abrindo/Criando banco\n",
            "Criando Tabela Medidas\n",
            "Inserindo Registros\n",
            "Fecha o banco\n",
            "CPU times: user 205 ms, sys: 2.17 ms, total: 207 ms\n",
            "Wall time: 244 ms\n"
          ]
        }
      ]
    }
  ]
}